{
 "cells": [
  {
   "cell_type": "markdown",
   "id": "3cf9bbef-fdd4-47e3-865b-7f5f0e508c50",
   "metadata": {},
   "source": [
    "### Carregamento das bibliotecas"
   ]
  },
  {
   "cell_type": "code",
   "execution_count": 68,
   "id": "ceadf6ea-6c30-4e66-8fa7-105df71b94c9",
   "metadata": {},
   "outputs": [],
   "source": [
    "import pandas as pd\n",
    "import numpy as np\n",
    "import matplotlib.pyplot as plt\n"
   ]
  },
  {
   "cell_type": "markdown",
   "id": "11c438b0-b5ef-4546-9760-5ef84c801217",
   "metadata": {},
   "source": [
    "### Carregamento do csv"
   ]
  },
  {
   "cell_type": "code",
   "execution_count": 35,
   "id": "356cfdd1-bf67-4548-ab01-9233e5dfa227",
   "metadata": {},
   "outputs": [],
   "source": [
    "df = pd.read_csv('merge.csv')"
   ]
  },
  {
   "cell_type": "markdown",
   "id": "d8769201-48bf-4764-8e3e-49e06b24c98d",
   "metadata": {},
   "source": [
    "### Exploração inicial"
   ]
  },
  {
   "cell_type": "code",
   "execution_count": 36,
   "id": "40ddbf90-6df6-4059-98ee-0e93c3986932",
   "metadata": {},
   "outputs": [
    {
     "data": {
      "text/html": [
       "<div>\n",
       "<style scoped>\n",
       "    .dataframe tbody tr th:only-of-type {\n",
       "        vertical-align: middle;\n",
       "    }\n",
       "\n",
       "    .dataframe tbody tr th {\n",
       "        vertical-align: top;\n",
       "    }\n",
       "\n",
       "    .dataframe thead th {\n",
       "        text-align: right;\n",
       "    }\n",
       "</style>\n",
       "<table border=\"1\" class=\"dataframe\">\n",
       "  <thead>\n",
       "    <tr style=\"text-align: right;\">\n",
       "      <th></th>\n",
       "      <th>date_ref</th>\n",
       "      <th>ana_code</th>\n",
       "      <th>mean_precipitation</th>\n",
       "    </tr>\n",
       "  </thead>\n",
       "  <tbody>\n",
       "    <tr>\n",
       "      <th>0</th>\n",
       "      <td>2000-06-02</td>\n",
       "      <td>PSATCNV</td>\n",
       "      <td>0.000000</td>\n",
       "    </tr>\n",
       "    <tr>\n",
       "      <th>1</th>\n",
       "      <td>2000-06-02</td>\n",
       "      <td>PSATFUR</td>\n",
       "      <td>0.876453</td>\n",
       "    </tr>\n",
       "    <tr>\n",
       "      <th>2</th>\n",
       "      <td>2000-06-02</td>\n",
       "      <td>PSATFZA</td>\n",
       "      <td>0.009259</td>\n",
       "    </tr>\n",
       "    <tr>\n",
       "      <th>3</th>\n",
       "      <td>2000-06-02</td>\n",
       "      <td>PSATIMBR</td>\n",
       "      <td>0.373096</td>\n",
       "    </tr>\n",
       "    <tr>\n",
       "      <th>4</th>\n",
       "      <td>2000-06-02</td>\n",
       "      <td>PSATITP</td>\n",
       "      <td>0.002860</td>\n",
       "    </tr>\n",
       "  </tbody>\n",
       "</table>\n",
       "</div>"
      ],
      "text/plain": [
       "     date_ref  ana_code  mean_precipitation\n",
       "0  2000-06-02   PSATCNV            0.000000\n",
       "1  2000-06-02   PSATFUR            0.876453\n",
       "2  2000-06-02   PSATFZA            0.009259\n",
       "3  2000-06-02  PSATIMBR            0.373096\n",
       "4  2000-06-02   PSATITP            0.002860"
      ]
     },
     "execution_count": 36,
     "metadata": {},
     "output_type": "execute_result"
    }
   ],
   "source": [
    "df.head()"
   ]
  },
  {
   "cell_type": "code",
   "execution_count": 37,
   "id": "ed455bfe-5268-4db1-a29b-14accc7e620b",
   "metadata": {},
   "outputs": [
    {
     "data": {
      "text/plain": [
       "Index(['date_ref', 'ana_code', 'mean_precipitation'], dtype='object')"
      ]
     },
     "execution_count": 37,
     "metadata": {},
     "output_type": "execute_result"
    }
   ],
   "source": [
    "df.columns"
   ]
  },
  {
   "cell_type": "code",
   "execution_count": 38,
   "id": "d473c5b7-8e28-4a06-9401-309606c117f7",
   "metadata": {},
   "outputs": [
    {
     "data": {
      "text/plain": [
       "date_ref               object\n",
       "ana_code               object\n",
       "mean_precipitation    float64\n",
       "dtype: object"
      ]
     },
     "execution_count": 38,
     "metadata": {},
     "output_type": "execute_result"
    }
   ],
   "source": [
    "df.dtypes"
   ]
  },
  {
   "cell_type": "markdown",
   "id": "b0b8b7fd-41f1-43a3-9800-17205544720b",
   "metadata": {},
   "source": [
    "### Transformar a coluna de datas do tipo String para o tipo Date"
   ]
  },
  {
   "cell_type": "code",
   "execution_count": 39,
   "id": "a0865ff9-d483-45c5-9251-e11719b0ac2f",
   "metadata": {},
   "outputs": [],
   "source": [
    "df['date_ref'] = pd.to_datetime(df['date_ref'])"
   ]
  },
  {
   "cell_type": "code",
   "execution_count": 40,
   "id": "e27368e6-8c64-4ce8-9172-9c344f7c3627",
   "metadata": {},
   "outputs": [
    {
     "data": {
      "text/plain": [
       "date_ref              datetime64[ns]\n",
       "ana_code                      object\n",
       "mean_precipitation           float64\n",
       "dtype: object"
      ]
     },
     "execution_count": 40,
     "metadata": {},
     "output_type": "execute_result"
    }
   ],
   "source": [
    "df.dtypes"
   ]
  },
  {
   "cell_type": "code",
   "execution_count": 41,
   "id": "c042a1b2-3e04-4135-94a9-50850856f274",
   "metadata": {},
   "outputs": [
    {
     "data": {
      "text/html": [
       "<div>\n",
       "<style scoped>\n",
       "    .dataframe tbody tr th:only-of-type {\n",
       "        vertical-align: middle;\n",
       "    }\n",
       "\n",
       "    .dataframe tbody tr th {\n",
       "        vertical-align: top;\n",
       "    }\n",
       "\n",
       "    .dataframe thead th {\n",
       "        text-align: right;\n",
       "    }\n",
       "</style>\n",
       "<table border=\"1\" class=\"dataframe\">\n",
       "  <thead>\n",
       "    <tr style=\"text-align: right;\">\n",
       "      <th></th>\n",
       "      <th>date_ref</th>\n",
       "      <th>ana_code</th>\n",
       "      <th>mean_precipitation</th>\n",
       "    </tr>\n",
       "  </thead>\n",
       "  <tbody>\n",
       "    <tr>\n",
       "      <th>0</th>\n",
       "      <td>2000-06-02</td>\n",
       "      <td>PSATCNV</td>\n",
       "      <td>0.000000</td>\n",
       "    </tr>\n",
       "    <tr>\n",
       "      <th>1</th>\n",
       "      <td>2000-06-02</td>\n",
       "      <td>PSATFUR</td>\n",
       "      <td>0.876453</td>\n",
       "    </tr>\n",
       "    <tr>\n",
       "      <th>2</th>\n",
       "      <td>2000-06-02</td>\n",
       "      <td>PSATFZA</td>\n",
       "      <td>0.009259</td>\n",
       "    </tr>\n",
       "    <tr>\n",
       "      <th>3</th>\n",
       "      <td>2000-06-02</td>\n",
       "      <td>PSATIMBR</td>\n",
       "      <td>0.373096</td>\n",
       "    </tr>\n",
       "    <tr>\n",
       "      <th>4</th>\n",
       "      <td>2000-06-02</td>\n",
       "      <td>PSATITP</td>\n",
       "      <td>0.002860</td>\n",
       "    </tr>\n",
       "  </tbody>\n",
       "</table>\n",
       "</div>"
      ],
      "text/plain": [
       "    date_ref  ana_code  mean_precipitation\n",
       "0 2000-06-02   PSATCNV            0.000000\n",
       "1 2000-06-02   PSATFUR            0.876453\n",
       "2 2000-06-02   PSATFZA            0.009259\n",
       "3 2000-06-02  PSATIMBR            0.373096\n",
       "4 2000-06-02   PSATITP            0.002860"
      ]
     },
     "execution_count": 41,
     "metadata": {},
     "output_type": "execute_result"
    }
   ],
   "source": [
    "df.head(5)"
   ]
  },
  {
   "cell_type": "code",
   "execution_count": 42,
   "id": "b173e34a-9702-4719-b975-a632d5e2a66b",
   "metadata": {},
   "outputs": [
    {
     "data": {
      "text/plain": [
       "(69720, 3)"
      ]
     },
     "execution_count": 42,
     "metadata": {},
     "output_type": "execute_result"
    }
   ],
   "source": [
    "df.shape"
   ]
  },
  {
   "cell_type": "code",
   "execution_count": 43,
   "id": "aa449663-71ee-41a8-b4dc-fc0fc85da62a",
   "metadata": {},
   "outputs": [
    {
     "data": {
      "text/plain": [
       "<bound method DataFrame.info of         date_ref  ana_code  mean_precipitation\n",
       "0     2000-06-02   PSATCNV            0.000000\n",
       "1     2000-06-02   PSATFUR            0.876453\n",
       "2     2000-06-02   PSATFZA            0.009259\n",
       "3     2000-06-02  PSATIMBR            0.373096\n",
       "4     2000-06-02   PSATITP            0.002860\n",
       "...          ...       ...                 ...\n",
       "69715 2024-04-11  PSATIMBR            1.246193\n",
       "69716 2024-04-11   PSATITP            1.773169\n",
       "69717 2024-04-11  PSATJIRA            3.654481\n",
       "69718 2024-04-11   PSATLAJ            4.200204\n",
       "69719 2024-04-11  PSATPIME            6.187466\n",
       "\n",
       "[69720 rows x 3 columns]>"
      ]
     },
     "execution_count": 43,
     "metadata": {},
     "output_type": "execute_result"
    }
   ],
   "source": [
    "df.info"
   ]
  },
  {
   "cell_type": "markdown",
   "id": "6c15efac-5af6-4a75-a0d4-79207239003a",
   "metadata": {},
   "source": [
    "### Alterando o índice da tabela para a data da observação"
   ]
  },
  {
   "cell_type": "code",
   "execution_count": 44,
   "id": "0cd60be3-c4de-4ba8-9704-d86f2d9cd55d",
   "metadata": {},
   "outputs": [
    {
     "data": {
      "text/plain": [
       "RangeIndex(start=0, stop=69720, step=1)"
      ]
     },
     "execution_count": 44,
     "metadata": {},
     "output_type": "execute_result"
    }
   ],
   "source": [
    "df.index"
   ]
  },
  {
   "cell_type": "code",
   "execution_count": 45,
   "id": "fa83ddba-4ff0-41d9-8bc1-1d3d88db5c30",
   "metadata": {},
   "outputs": [],
   "source": [
    "df.set_index('date_ref', inplace=True)"
   ]
  },
  {
   "cell_type": "code",
   "execution_count": 46,
   "id": "73782579-9752-4d14-b5c4-2b88213811a4",
   "metadata": {},
   "outputs": [
    {
     "data": {
      "text/plain": [
       "DatetimeIndex(['2000-06-02', '2000-06-02', '2000-06-02', '2000-06-02',\n",
       "               '2000-06-02', '2000-06-02', '2000-06-02', '2000-06-02',\n",
       "               '2000-06-03', '2000-06-03',\n",
       "               ...\n",
       "               '2024-04-10', '2024-04-10', '2024-04-11', '2024-04-11',\n",
       "               '2024-04-11', '2024-04-11', '2024-04-11', '2024-04-11',\n",
       "               '2024-04-11', '2024-04-11'],\n",
       "              dtype='datetime64[ns]', name='date_ref', length=69720, freq=None)"
      ]
     },
     "execution_count": 46,
     "metadata": {},
     "output_type": "execute_result"
    }
   ],
   "source": [
    "df.index"
   ]
  },
  {
   "cell_type": "code",
   "execution_count": 47,
   "id": "e56fce4e-a358-4d3f-bd9c-b244657708b6",
   "metadata": {},
   "outputs": [
    {
     "data": {
      "text/html": [
       "<div>\n",
       "<style scoped>\n",
       "    .dataframe tbody tr th:only-of-type {\n",
       "        vertical-align: middle;\n",
       "    }\n",
       "\n",
       "    .dataframe tbody tr th {\n",
       "        vertical-align: top;\n",
       "    }\n",
       "\n",
       "    .dataframe thead th {\n",
       "        text-align: right;\n",
       "    }\n",
       "</style>\n",
       "<table border=\"1\" class=\"dataframe\">\n",
       "  <thead>\n",
       "    <tr style=\"text-align: right;\">\n",
       "      <th></th>\n",
       "      <th>ana_code</th>\n",
       "      <th>mean_precipitation</th>\n",
       "    </tr>\n",
       "    <tr>\n",
       "      <th>date_ref</th>\n",
       "      <th></th>\n",
       "      <th></th>\n",
       "    </tr>\n",
       "  </thead>\n",
       "  <tbody>\n",
       "    <tr>\n",
       "      <th>2000-06-02</th>\n",
       "      <td>PSATCNV</td>\n",
       "      <td>0.000000</td>\n",
       "    </tr>\n",
       "    <tr>\n",
       "      <th>2000-06-02</th>\n",
       "      <td>PSATFUR</td>\n",
       "      <td>0.876453</td>\n",
       "    </tr>\n",
       "    <tr>\n",
       "      <th>2000-06-02</th>\n",
       "      <td>PSATFZA</td>\n",
       "      <td>0.009259</td>\n",
       "    </tr>\n",
       "    <tr>\n",
       "      <th>2000-06-02</th>\n",
       "      <td>PSATIMBR</td>\n",
       "      <td>0.373096</td>\n",
       "    </tr>\n",
       "    <tr>\n",
       "      <th>2000-06-02</th>\n",
       "      <td>PSATITP</td>\n",
       "      <td>0.002860</td>\n",
       "    </tr>\n",
       "  </tbody>\n",
       "</table>\n",
       "</div>"
      ],
      "text/plain": [
       "            ana_code  mean_precipitation\n",
       "date_ref                                \n",
       "2000-06-02   PSATCNV            0.000000\n",
       "2000-06-02   PSATFUR            0.876453\n",
       "2000-06-02   PSATFZA            0.009259\n",
       "2000-06-02  PSATIMBR            0.373096\n",
       "2000-06-02   PSATITP            0.002860"
      ]
     },
     "execution_count": 47,
     "metadata": {},
     "output_type": "execute_result"
    }
   ],
   "source": [
    "df.head()"
   ]
  },
  {
   "cell_type": "markdown",
   "id": "1a965766-9ffd-4b0f-a050-c40c77f37449",
   "metadata": {},
   "source": [
    "### Filtrando os dados da bacia para análise"
   ]
  },
  {
   "cell_type": "code",
   "execution_count": 48,
   "id": "d7157a66-ca9d-40b9-86bf-4b88eeffd15b",
   "metadata": {},
   "outputs": [],
   "source": [
    "bacia = 'PSATCNV'\n",
    "filtro_por_bacia = df['ana_code'] == bacia\n",
    "\n",
    "df_bacia = df[filtro_por_bacia]"
   ]
  },
  {
   "cell_type": "code",
   "execution_count": 49,
   "id": "e7329d5a-0601-4eaf-b940-b181289bc5f3",
   "metadata": {},
   "outputs": [
    {
     "data": {
      "text/html": [
       "<div>\n",
       "<style scoped>\n",
       "    .dataframe tbody tr th:only-of-type {\n",
       "        vertical-align: middle;\n",
       "    }\n",
       "\n",
       "    .dataframe tbody tr th {\n",
       "        vertical-align: top;\n",
       "    }\n",
       "\n",
       "    .dataframe thead th {\n",
       "        text-align: right;\n",
       "    }\n",
       "</style>\n",
       "<table border=\"1\" class=\"dataframe\">\n",
       "  <thead>\n",
       "    <tr style=\"text-align: right;\">\n",
       "      <th></th>\n",
       "      <th>ana_code</th>\n",
       "      <th>mean_precipitation</th>\n",
       "    </tr>\n",
       "    <tr>\n",
       "      <th>date_ref</th>\n",
       "      <th></th>\n",
       "      <th></th>\n",
       "    </tr>\n",
       "  </thead>\n",
       "  <tbody>\n",
       "    <tr>\n",
       "      <th>2000-06-02</th>\n",
       "      <td>PSATCNV</td>\n",
       "      <td>0.000000</td>\n",
       "    </tr>\n",
       "    <tr>\n",
       "      <th>2000-06-03</th>\n",
       "      <td>PSATCNV</td>\n",
       "      <td>0.000000</td>\n",
       "    </tr>\n",
       "    <tr>\n",
       "      <th>2000-06-04</th>\n",
       "      <td>PSATCNV</td>\n",
       "      <td>0.005814</td>\n",
       "    </tr>\n",
       "    <tr>\n",
       "      <th>2000-06-05</th>\n",
       "      <td>PSATCNV</td>\n",
       "      <td>4.839147</td>\n",
       "    </tr>\n",
       "    <tr>\n",
       "      <th>2000-06-06</th>\n",
       "      <td>PSATCNV</td>\n",
       "      <td>8.423450</td>\n",
       "    </tr>\n",
       "    <tr>\n",
       "      <th>...</th>\n",
       "      <td>...</td>\n",
       "      <td>...</td>\n",
       "    </tr>\n",
       "    <tr>\n",
       "      <th>2024-04-07</th>\n",
       "      <td>PSATCNV</td>\n",
       "      <td>0.792636</td>\n",
       "    </tr>\n",
       "    <tr>\n",
       "      <th>2024-04-08</th>\n",
       "      <td>PSATCNV</td>\n",
       "      <td>6.962209</td>\n",
       "    </tr>\n",
       "    <tr>\n",
       "      <th>2024-04-09</th>\n",
       "      <td>PSATCNV</td>\n",
       "      <td>0.413760</td>\n",
       "    </tr>\n",
       "    <tr>\n",
       "      <th>2024-04-10</th>\n",
       "      <td>PSATCNV</td>\n",
       "      <td>0.102713</td>\n",
       "    </tr>\n",
       "    <tr>\n",
       "      <th>2024-04-11</th>\n",
       "      <td>PSATCNV</td>\n",
       "      <td>1.005814</td>\n",
       "    </tr>\n",
       "  </tbody>\n",
       "</table>\n",
       "<p>8715 rows × 2 columns</p>\n",
       "</div>"
      ],
      "text/plain": [
       "           ana_code  mean_precipitation\n",
       "date_ref                               \n",
       "2000-06-02  PSATCNV            0.000000\n",
       "2000-06-03  PSATCNV            0.000000\n",
       "2000-06-04  PSATCNV            0.005814\n",
       "2000-06-05  PSATCNV            4.839147\n",
       "2000-06-06  PSATCNV            8.423450\n",
       "...             ...                 ...\n",
       "2024-04-07  PSATCNV            0.792636\n",
       "2024-04-08  PSATCNV            6.962209\n",
       "2024-04-09  PSATCNV            0.413760\n",
       "2024-04-10  PSATCNV            0.102713\n",
       "2024-04-11  PSATCNV            1.005814\n",
       "\n",
       "[8715 rows x 2 columns]"
      ]
     },
     "execution_count": 49,
     "metadata": {},
     "output_type": "execute_result"
    }
   ],
   "source": [
    "df_bacia"
   ]
  },
  {
   "cell_type": "markdown",
   "id": "09be3040-39c1-4203-9cbe-16f7b1742f6f",
   "metadata": {},
   "source": [
    "### Verificação de valores inválidos"
   ]
  },
  {
   "cell_type": "code",
   "execution_count": 50,
   "id": "ea014903-4d94-491a-a1ad-23e110a5663c",
   "metadata": {},
   "outputs": [
    {
     "data": {
      "text/plain": [
       "ana_code              0\n",
       "mean_precipitation    0\n",
       "dtype: int64"
      ]
     },
     "execution_count": 50,
     "metadata": {},
     "output_type": "execute_result"
    }
   ],
   "source": [
    "df_bacia.isna().sum()"
   ]
  },
  {
   "cell_type": "code",
   "execution_count": 58,
   "id": "9167a59d-51d9-4cab-bdcb-75696a1828bd",
   "metadata": {},
   "outputs": [
    {
     "data": {
      "text/html": [
       "<div>\n",
       "<style scoped>\n",
       "    .dataframe tbody tr th:only-of-type {\n",
       "        vertical-align: middle;\n",
       "    }\n",
       "\n",
       "    .dataframe tbody tr th {\n",
       "        vertical-align: top;\n",
       "    }\n",
       "\n",
       "    .dataframe thead th {\n",
       "        text-align: right;\n",
       "    }\n",
       "</style>\n",
       "<table border=\"1\" class=\"dataframe\">\n",
       "  <thead>\n",
       "    <tr style=\"text-align: right;\">\n",
       "      <th></th>\n",
       "      <th>ana_code</th>\n",
       "      <th>mean_precipitation</th>\n",
       "    </tr>\n",
       "    <tr>\n",
       "      <th>date_ref</th>\n",
       "      <th></th>\n",
       "      <th></th>\n",
       "    </tr>\n",
       "  </thead>\n",
       "  <tbody>\n",
       "  </tbody>\n",
       "</table>\n",
       "</div>"
      ],
      "text/plain": [
       "Empty DataFrame\n",
       "Columns: [ana_code, mean_precipitation]\n",
       "Index: []"
      ]
     },
     "execution_count": 58,
     "metadata": {},
     "output_type": "execute_result"
    }
   ],
   "source": [
    "valores_menores_que_zero = df_bacia['mean_precipitation'] < 0\n",
    "df_bacia[valores_menores_que_zero]"
   ]
  },
  {
   "cell_type": "code",
   "execution_count": 57,
   "id": "2a145f50-3c3d-4928-967f-e6979f92826b",
   "metadata": {},
   "outputs": [
    {
     "data": {
      "text/html": [
       "<div>\n",
       "<style scoped>\n",
       "    .dataframe tbody tr th:only-of-type {\n",
       "        vertical-align: middle;\n",
       "    }\n",
       "\n",
       "    .dataframe tbody tr th {\n",
       "        vertical-align: top;\n",
       "    }\n",
       "\n",
       "    .dataframe thead th {\n",
       "        text-align: right;\n",
       "    }\n",
       "</style>\n",
       "<table border=\"1\" class=\"dataframe\">\n",
       "  <thead>\n",
       "    <tr style=\"text-align: right;\">\n",
       "      <th></th>\n",
       "      <th>ana_code</th>\n",
       "      <th>mean_precipitation</th>\n",
       "    </tr>\n",
       "    <tr>\n",
       "      <th>date_ref</th>\n",
       "      <th></th>\n",
       "      <th></th>\n",
       "    </tr>\n",
       "  </thead>\n",
       "  <tbody>\n",
       "    <tr>\n",
       "      <th>2000-06-02</th>\n",
       "      <td>PSATCNV</td>\n",
       "      <td>0.0</td>\n",
       "    </tr>\n",
       "    <tr>\n",
       "      <th>2000-06-03</th>\n",
       "      <td>PSATCNV</td>\n",
       "      <td>0.0</td>\n",
       "    </tr>\n",
       "    <tr>\n",
       "      <th>2000-06-23</th>\n",
       "      <td>PSATCNV</td>\n",
       "      <td>0.0</td>\n",
       "    </tr>\n",
       "    <tr>\n",
       "      <th>2000-06-24</th>\n",
       "      <td>PSATCNV</td>\n",
       "      <td>0.0</td>\n",
       "    </tr>\n",
       "    <tr>\n",
       "      <th>2000-07-04</th>\n",
       "      <td>PSATCNV</td>\n",
       "      <td>0.0</td>\n",
       "    </tr>\n",
       "    <tr>\n",
       "      <th>...</th>\n",
       "      <td>...</td>\n",
       "      <td>...</td>\n",
       "    </tr>\n",
       "    <tr>\n",
       "      <th>2023-12-29</th>\n",
       "      <td>PSATCNV</td>\n",
       "      <td>0.0</td>\n",
       "    </tr>\n",
       "    <tr>\n",
       "      <th>2024-01-14</th>\n",
       "      <td>PSATCNV</td>\n",
       "      <td>0.0</td>\n",
       "    </tr>\n",
       "    <tr>\n",
       "      <th>2024-02-04</th>\n",
       "      <td>PSATCNV</td>\n",
       "      <td>0.0</td>\n",
       "    </tr>\n",
       "    <tr>\n",
       "      <th>2024-03-28</th>\n",
       "      <td>PSATCNV</td>\n",
       "      <td>0.0</td>\n",
       "    </tr>\n",
       "    <tr>\n",
       "      <th>2024-04-01</th>\n",
       "      <td>PSATCNV</td>\n",
       "      <td>0.0</td>\n",
       "    </tr>\n",
       "  </tbody>\n",
       "</table>\n",
       "<p>888 rows × 2 columns</p>\n",
       "</div>"
      ],
      "text/plain": [
       "           ana_code  mean_precipitation\n",
       "date_ref                               \n",
       "2000-06-02  PSATCNV                 0.0\n",
       "2000-06-03  PSATCNV                 0.0\n",
       "2000-06-23  PSATCNV                 0.0\n",
       "2000-06-24  PSATCNV                 0.0\n",
       "2000-07-04  PSATCNV                 0.0\n",
       "...             ...                 ...\n",
       "2023-12-29  PSATCNV                 0.0\n",
       "2024-01-14  PSATCNV                 0.0\n",
       "2024-02-04  PSATCNV                 0.0\n",
       "2024-03-28  PSATCNV                 0.0\n",
       "2024-04-01  PSATCNV                 0.0\n",
       "\n",
       "[888 rows x 2 columns]"
      ]
     },
     "execution_count": 57,
     "metadata": {},
     "output_type": "execute_result"
    }
   ],
   "source": [
    "valores_iguais_a_zero = df_bacia['mean_precipitation'] == 0\n",
    "df_bacia[valores_iguais_a_zero]"
   ]
  },
  {
   "cell_type": "code",
   "execution_count": 62,
   "id": "29658e43-8a62-4671-921c-4553cd1b4a39",
   "metadata": {},
   "outputs": [
    {
     "data": {
      "text/plain": [
       "True"
      ]
     },
     "execution_count": 62,
     "metadata": {},
     "output_type": "execute_result"
    }
   ],
   "source": [
    "valores_maiores_que_zero = df_bacia['mean_precipitation'] > 0\n",
    "df_bacia.shape[0] == df_bacia[valores_maiores_que_zero].shape[0] + df_bacia[valores_iguais_a_zero].shape[0]"
   ]
  },
  {
   "cell_type": "markdown",
   "id": "501e3921-fbeb-4229-8b06-ae4c3906bcc6",
   "metadata": {},
   "source": [
    "## Visualização gráfica da precipitação"
   ]
  },
  {
   "cell_type": "code",
   "execution_count": 63,
   "id": "b144145a-4219-4e00-a747-e7a03d1f9474",
   "metadata": {},
   "outputs": [
    {
     "data": {
      "text/plain": [
       "count    8715.000000\n",
       "mean        4.731443\n",
       "std         9.310892\n",
       "min         0.000000\n",
       "25%         0.051357\n",
       "50%         0.548450\n",
       "75%         5.090843\n",
       "max       100.245155\n",
       "Name: mean_precipitation, dtype: float64"
      ]
     },
     "execution_count": 63,
     "metadata": {},
     "output_type": "execute_result"
    }
   ],
   "source": [
    "df_bacia['mean_precipitation'].describe()"
   ]
  },
  {
   "cell_type": "code",
   "execution_count": 70,
   "id": "394268d3-b0e6-4f07-893a-97735bbe6ca5",
   "metadata": {},
   "outputs": [
    {
     "data": {
      "image/png": "[encoded data removed]",
      "text/plain": [
       "<Figure size 640x480 with 1 Axes>"
      ]
     },
     "metadata": {},
     "output_type": "display_data"
    }
   ],
   "source": [
    "df_bacia['mean_precipitation'].plot()\n",
    "# Adicionando título e labels\n",
    "plt.title('Precipitação')\n",
    "plt.xlabel('Data')\n",
    "plt.ylabel('Valor')\n",
    "\n",
    "# Mostrar o gráfico\n",
    "plt.show()"
   ]
  },
  {
   "cell_type": "code",
   "execution_count": null,
   "id": "91a93d34-2032-4618-86f7-9088bd946ca2",
   "metadata": {},
   "outputs": [],
   "source": []
  }
 ],
 "metadata": {
  "kernelspec": {
   "display_name": "Python 3 (ipykernel)",
   "language": "python",
   "name": "python3"
  },
  "language_info": {
   "codemirror_mode": {
    "name": "ipython",
    "version": 3
   },
   "file_extension": ".py",
   "mimetype": "text/x-python",
   "name": "python",
   "nbconvert_exporter": "python",
   "pygments_lexer": "ipython3",
   "version": "3.11.9"
  }
 },
 "nbformat": 4,
 "nbformat_minor": 5
}
